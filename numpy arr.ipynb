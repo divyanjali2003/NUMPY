{
 "cells": [
  {
   "cell_type": "code",
   "execution_count": 1,
   "id": "f2626f53-41df-43f0-ad96-9181b84d1b08",
   "metadata": {},
   "outputs": [
    {
     "name": "stdout",
     "output_type": "stream",
     "text": [
      "Requirement already satisfied: numpy in c:\\users\\diyanjali\\anaconda3\\lib\\site-packages (1.26.4)\n",
      "Note: you may need to restart the kernel to use updated packages.\n"
     ]
    }
   ],
   "source": [
    "pip install numpy"
   ]
  },
  {
   "cell_type": "code",
   "execution_count": 2,
   "id": "ee646827-e939-422c-a019-564da6b61d67",
   "metadata": {},
   "outputs": [
    {
     "data": {
      "text/plain": [
       "array([1, 2, 3, 4, 5])"
      ]
     },
     "execution_count": 2,
     "metadata": {},
     "output_type": "execute_result"
    }
   ],
   "source": [
    "import numpy as np\n",
    "ary=np.array([1,2,3,4,5])\n",
    "ary"
   ]
  },
  {
   "cell_type": "code",
   "execution_count": 3,
   "id": "3c744c88-92bf-4479-9467-00ff26e5948f",
   "metadata": {},
   "outputs": [
    {
     "data": {
      "text/plain": [
       "numpy.ndarray"
      ]
     },
     "execution_count": 3,
     "metadata": {},
     "output_type": "execute_result"
    }
   ],
   "source": [
    "type(ary)"
   ]
  },
  {
   "cell_type": "code",
   "execution_count": 4,
   "id": "7c6312e9-279c-4559-8f3d-c2208ede35fd",
   "metadata": {},
   "outputs": [
    {
     "name": "stdout",
     "output_type": "stream",
     "text": [
      "12\n"
     ]
    }
   ],
   "source": [
    "import numpy as np\n",
    "ary1=np.array(12)\n",
    "print(ary1)"
   ]
  },
  {
   "cell_type": "code",
   "execution_count": 5,
   "id": "c342da41-f8d9-4b57-b4f5-1088813393ce",
   "metadata": {},
   "outputs": [
    {
     "name": "stdout",
     "output_type": "stream",
     "text": [
      "[[1 2 3]\n",
      " [4 5 6]]\n"
     ]
    }
   ],
   "source": [
    "import numpy as np\n",
    "ary2=np.array([[1,2,3],[4,5,6]])\n",
    "print(ary2)"
   ]
  },
  {
   "cell_type": "code",
   "execution_count": 6,
   "id": "2022407a-478e-4037-9124-576ead1422cc",
   "metadata": {},
   "outputs": [
    {
     "name": "stdout",
     "output_type": "stream",
     "text": [
      "[[[1 2 3]\n",
      "  [4 5 6]]\n",
      "\n",
      " [[1 2 3]\n",
      "  [4 5 6]]]\n"
     ]
    }
   ],
   "source": [
    "import numpy as np\n",
    "ary3=np.array([[[1,2,3],[4,5,6]],[[1,2,3],[4,5,6]]])\n",
    "print(ary3)"
   ]
  },
  {
   "cell_type": "code",
   "execution_count": 7,
   "id": "30b4cc1e-a0ed-4e92-a70a-11839c4fc4a8",
   "metadata": {},
   "outputs": [
    {
     "name": "stdout",
     "output_type": "stream",
     "text": [
      "0\n"
     ]
    }
   ],
   "source": [
    "print(ary1.ndim)"
   ]
  },
  {
   "cell_type": "code",
   "execution_count": 8,
   "id": "28236e4b-fba9-4ce7-bf42-5cfa897ad143",
   "metadata": {},
   "outputs": [
    {
     "name": "stdout",
     "output_type": "stream",
     "text": [
      "[[[[[1 2 3 4]]]]]\n"
     ]
    }
   ],
   "source": [
    "import numpy as np\n",
    "ary4=np.array([1,2,3,4],ndmin=5)\n",
    "print(ary4)"
   ]
  },
  {
   "cell_type": "code",
   "execution_count": 9,
   "id": "aa92373d-b8e2-41d1-b5b4-923a3950ea13",
   "metadata": {},
   "outputs": [
    {
     "name": "stdout",
     "output_type": "stream",
     "text": [
      "3\n"
     ]
    }
   ],
   "source": [
    "import numpy as np\n",
    "ary5=np.array([1,2,3,4])\n",
    "print(ary5[2])"
   ]
  },
  {
   "cell_type": "code",
   "execution_count": 13,
   "id": "db48e64c-bc03-45bd-b730-e38e1d819ef7",
   "metadata": {},
   "outputs": [
    {
     "name": "stdout",
     "output_type": "stream",
     "text": [
      "4\n"
     ]
    }
   ],
   "source": [
    "import numpy as np\n",
    "ary6=np.array([[1,2,3,4,5],[6,7,8,9,10]])\n",
    "print(ary6[0,3])"
   ]
  },
  {
   "cell_type": "code",
   "execution_count": 15,
   "id": "03d7b44f-d1fe-40cf-b2f7-e5ecf20eb3b8",
   "metadata": {},
   "outputs": [
    {
     "name": "stdout",
     "output_type": "stream",
     "text": [
      "10\n"
     ]
    }
   ],
   "source": [
    "print(ary6[1,4])"
   ]
  },
  {
   "cell_type": "code",
   "execution_count": 19,
   "id": "dbf3ba16-242f-48e0-8793-13ae037bcdcf",
   "metadata": {},
   "outputs": [
    {
     "name": "stdout",
     "output_type": "stream",
     "text": [
      "[1 2 3 4]\n"
     ]
    }
   ],
   "source": [
    "import numpy as np\n",
    "ary7=np.array([[1,2,3,4,5],[6,7,8,9,10]])\n",
    "print(ary7[0,0:4])"
   ]
  },
  {
   "cell_type": "raw",
   "id": "db123db8-77ec-4c41-92c5-55a25849e9be",
   "metadata": {},
   "source": [
    "import numpy as np\n",
    "ary8=np.array([[[1,2,3],[4,5,6]],[[7,8,9],[10,11,12]]])\n",
    "print(ary8[0,1,2])"
   ]
  },
  {
   "cell_type": "code",
   "execution_count": 28,
   "id": "08b31f77-ebaf-46d9-9eae-3493fe01fdfa",
   "metadata": {},
   "outputs": [
    {
     "name": "stdout",
     "output_type": "stream",
     "text": [
      "8\n"
     ]
    }
   ],
   "source": [
    "import numpy as np\n",
    "ary8=np.array([[[1,2,3],[4,5,6]],[[7,8,9],[10,11,12]]])\n",
    "print(ary8[1,0,1])"
   ]
  },
  {
   "cell_type": "code",
   "execution_count": null,
   "id": "71f06ddd-7164-496e-9400-0aa81a463507",
   "metadata": {},
   "outputs": [],
   "source": []
  }
 ],
 "metadata": {
  "kernelspec": {
   "display_name": "Python [conda env:base] *",
   "language": "python",
   "name": "conda-base-py"
  },
  "language_info": {
   "codemirror_mode": {
    "name": "ipython",
    "version": 3
   },
   "file_extension": ".py",
   "mimetype": "text/x-python",
   "name": "python",
   "nbconvert_exporter": "python",
   "pygments_lexer": "ipython3",
   "version": "3.12.7"
  }
 },
 "nbformat": 4,
 "nbformat_minor": 5
}
