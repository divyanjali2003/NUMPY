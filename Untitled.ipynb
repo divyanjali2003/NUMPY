{
 "cells": [
  {
   "cell_type": "code",
   "execution_count": null,
   "id": "8e5fbaef-01ce-4c1d-8193-50b4f4a8a4b2",
   "metadata": {},
   "outputs": [],
   "source": []
  }
 ],
 "metadata": {
  "kernelspec": {
   "display_name": "",
   "name": ""
  },
  "language_info": {
   "name": ""
  }
 },
 "nbformat": 4,
 "nbformat_minor": 5
}
